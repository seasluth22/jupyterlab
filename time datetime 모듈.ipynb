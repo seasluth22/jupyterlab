{
 "cells": [
  {
   "cell_type": "markdown",
   "id": "ed5401b5-81f9-40a4-ad8e-08fc235601ca",
   "metadata": {},
   "source": [
    "# time datetime 모듈\n",
    "\n",
    "## <font color='blue'> Test : 입력한 날짜에서 현재 날짜까지 며칠이 지났는지 날짜 수를 세는 프로그램 만들기 </font>"
   ]
  },
  {
   "cell_type": "code",
   "execution_count": 1,
   "id": "15cdb44d-9e0e-4306-98c9-4fa666e39a4c",
   "metadata": {},
   "outputs": [
    {
     "data": {
      "text/plain": [
       "time.struct_time(tm_year=2022, tm_mon=7, tm_mday=28, tm_hour=23, tm_min=5, tm_sec=50, tm_wday=3, tm_yday=209, tm_isdst=0)"
      ]
     },
     "execution_count": 1,
     "metadata": {},
     "output_type": "execute_result"
    }
   ],
   "source": [
    "from time import *\n",
    "localtime()"
   ]
  },
  {
   "cell_type": "code",
   "execution_count": 5,
   "id": "b4dac545-bd7b-4a34-b89e-832ecd3eb2a5",
   "metadata": {},
   "outputs": [
    {
     "data": {
      "text/plain": [
       "datetime.timedelta(days=302)"
      ]
     },
     "execution_count": 5,
     "metadata": {},
     "output_type": "execute_result"
    }
   ],
   "source": [
    "from datetime import *\n",
    "date(2020,12,25) - date(2020,2,27)"
   ]
  },
  {
   "cell_type": "code",
   "execution_count": 6,
   "id": "94908223-e6d9-4bb4-a589-88bda4dad984",
   "metadata": {},
   "outputs": [
    {
     "data": {
      "text/plain": [
       "302"
      ]
     },
     "execution_count": 6,
     "metadata": {},
     "output_type": "execute_result"
    }
   ],
   "source": [
    "from datetime import *\n",
    "(date(2020,12,25) - date(2020,2,27)).days"
   ]
  },
  {
   "cell_type": "code",
   "execution_count": 7,
   "id": "0de91490-abd6-434f-81ba-3f929ccaa32b",
   "metadata": {},
   "outputs": [
    {
     "data": {
      "text/plain": [
       "datetime.datetime(2022, 7, 28, 23, 10, 47, 689958)"
      ]
     },
     "execution_count": 7,
     "metadata": {},
     "output_type": "execute_result"
    }
   ],
   "source": [
    "import datetime\n",
    "datetime.datetime.now() # 현재 날짜와 시간 "
   ]
  },
  {
   "cell_type": "code",
   "execution_count": 18,
   "id": "c4139b78-de4c-4a66-85d5-92c8cdd6f1ce",
   "metadata": {},
   "outputs": [
    {
     "name": "stdin",
     "output_type": "stream",
     "text": [
      "시작 날짜(년/월/일) --->  2020/12/25\n"
     ]
    },
    {
     "name": "stdout",
     "output_type": "stream",
     "text": [
      "2020/12/25 부터 오늘( 2022/7/28 )까지는 580일이 지났습니다.\n",
      "그리고 오늘은 목요일 입니다.\n"
     ]
    }
   ],
   "source": [
    "from time import *\n",
    "from datetime import *\n",
    "\n",
    "## 전역 변수 선언 부분 ##\n",
    "startDate, curDate, tm = '', '', None\n",
    "\n",
    "## 함수 선업 부분 ##\n",
    "def countDays(date1, date2): # 날짜 수 세기\n",
    "    retDays = 0\n",
    "    year, month, day = date1.split('/')\n",
    "    sDay = date(int(year), int(month),  int(day))\n",
    "    year, month, day = date2.split('/')\n",
    "    eDay = date(int(year), int(month),  int(day))\n",
    "    diffDays = eDay - sDay\n",
    "    retDays = diffDays.days # 날짜만 추출\n",
    "    return retDays\n",
    "\n",
    "def getDay(t):              # 요일 구하기\n",
    "    weeks = ['월','화','수','목','금','토','일']\n",
    "    return weeks[t. tm_wday]\n",
    "    \n",
    "## 메인 코드 부분 ##\n",
    "startDate = input('시작 날짜(년/월/일) ---> ')\n",
    "tm = localtime()\n",
    "curDate = str(tm.tm_year) + '/' + str(tm.tm_mon) + '/' + str(tm.tm_mday)\n",
    "print(startDate, '부터 오늘(', curDate, ')까지는', countDays(startDate, curDate), '\\b일이 지났습니다.')\n",
    "print('그리고 오늘은',  getDay(tm), '\\b요일 입니다.')"
   ]
  },
  {
   "cell_type": "code",
   "execution_count": null,
   "id": "c158d908-cce4-4535-a68c-aee27eaf9f36",
   "metadata": {},
   "outputs": [],
   "source": []
  }
 ],
 "metadata": {
  "kernelspec": {
   "display_name": "Python 3 (ipykernel)",
   "language": "python",
   "name": "python3"
  },
  "language_info": {
   "codemirror_mode": {
    "name": "ipython",
    "version": 3
   },
   "file_extension": ".py",
   "mimetype": "text/x-python",
   "name": "python",
   "nbconvert_exporter": "python",
   "pygments_lexer": "ipython3",
   "version": "3.10.2"
  }
 },
 "nbformat": 4,
 "nbformat_minor": 5
}
