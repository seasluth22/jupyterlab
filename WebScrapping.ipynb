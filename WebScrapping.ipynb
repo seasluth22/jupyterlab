{
 "cells": [
  {
   "cell_type": "markdown",
   "id": "45af6938-c356-47be-9545-c6d4a208abc6",
   "metadata": {},
   "source": [
    "# 웹 스크래핑\n",
    "## 1) urllib.request 모듈을 이용한 웹 스크래핑\n",
    "### 네이버 주식 검색"
   ]
  },
  {
   "cell_type": "code",
   "execution_count": 40,
   "id": "f18039c8-ac51-45d5-83e5-764f9dc791ce",
   "metadata": {},
   "outputs": [
    {
     "name": "stdout",
     "output_type": "stream",
     "text": [
      "2022년 07월 29일 16시 11분 기준 장마감\n",
      "종목명 삼성전자\n",
      "종목코드 005930 코스피\n",
      "현재가 61,400 전일대비 하락 500 마이너스 0.81 퍼센트\n",
      "전일가 61,900\n",
      "시가 62,400\n",
      "고가 62,600\n",
      "상한가 80,400\n",
      "저가 61,300\n",
      "하한가 43,400\n",
      "거래량 15,036,436\n",
      "거래대금 929,433백만\n"
     ]
    }
   ],
   "source": [
    "# 네이버 주식 검색\n",
    "import urllib.request\n",
    "import re\n",
    "\n",
    "url = 'https://finance.naver.com/item/main.nhn?code=005930'\n",
    "\n",
    "html = urllib.request.urlopen(url)\n",
    "html_contents = str(html.read().decode(\"ms949\"))\n",
    "# print(html_contents)  ->> 내용보기\n",
    "\n",
    "# 첫번째 패턴\n",
    "stock_results = re.findall('(\\<dl class=\\\"blind\\\"\\>)([\\s\\S]+?)(\\<\\/dl\\>)', html_contents)\n",
    "# print('--------------------------------------------')\n",
    "# print(stock_results)\n",
    "# print('--------------------------------------------')\n",
    "\n",
    "samsung_stock = stock_results[0]\n",
    "samsung_index = samsung_stock[1]\n",
    "# print('--------------------------------------------')\n",
    "# print(samsung_stock)\n",
    "# print('--------------------------------------------')\n",
    "# print(samsung_index)\n",
    "# print('--------------------------------------------')\n",
    "\n",
    "# 주식정보만 추출\n",
    "index_list = re.findall('(\\<dd\\>)([\\s\\S]+?)(\\<\\/dd\\>)', samsung_index)\n",
    "# print('--------------------------------------------')\n",
    "# print(index_list)\n",
    "# print('--------------------------------------------')\n",
    "\n",
    "for index in index_list:\n",
    "    print(index[1])\n"
   ]
  },
  {
   "cell_type": "code",
   "execution_count": null,
   "id": "a7cc3e4e-b3b3-462e-9dad-fd4ca10c5a2f",
   "metadata": {},
   "outputs": [],
   "source": []
  }
 ],
 "metadata": {
  "kernelspec": {
   "display_name": "Python 3 (ipykernel)",
   "language": "python",
   "name": "python3"
  },
  "language_info": {
   "codemirror_mode": {
    "name": "ipython",
    "version": 3
   },
   "file_extension": ".py",
   "mimetype": "text/x-python",
   "name": "python",
   "nbconvert_exporter": "python",
   "pygments_lexer": "ipython3",
   "version": "3.10.2"
  }
 },
 "nbformat": 4,
 "nbformat_minor": 5
}
