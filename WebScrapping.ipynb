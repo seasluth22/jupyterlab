{
 "cells": [
  {
   "cell_type": "markdown",
   "id": "45af6938-c356-47be-9545-c6d4a208abc6",
   "metadata": {},
   "source": [
    "# 웹 스크래핑\n",
    "## 1) urllib.request 모듈을 이용한 웹 스크래핑\n",
    "### 네이버 주식 검색"
   ]
  },
  {
   "cell_type": "code",
   "execution_count": 24,
   "id": "f18039c8-ac51-45d5-83e5-764f9dc791ce",
   "metadata": {},
   "outputs": [
    {
     "name": "stdout",
     "output_type": "stream",
     "text": [
      "2022년 07월 29일 16시 11분 기준 장마감\n",
      "종목명 삼성전자\n",
      "종목코드 005930 코스피\n",
      "현재가 61,400 전일대비 하락 500 마이너스 0.81 퍼센트\n",
      "전일가 61,900\n",
      "시가 62,400\n",
      "고가 62,600\n",
      "상한가 80,400\n",
      "저가 61,300\n",
      "하한가 43,400\n",
      "거래량 15,036,436\n",
      "거래대금 929,433백만\n"
     ]
    }
   ],
   "source": [
    "# 네이버 주식 검색\n",
    "import urllib.request\n",
    "import re\n",
    "\n",
    "url = 'https://finance.naver.com/item/main.nhn?code=005930'\n",
    "\n",
    "html = urllib.request.urlopen(url)\n",
    "html_contents = str(html.read().decode(\"ms949\"))\n",
    "# print(html_contents)  ->> 내용보기\n",
    "\n",
    "# 첫번째 패턴\n",
    "stock_results = re.findall('(\\<dl class=\\\"blind\\\"\\>)([\\s\\S]+?)(\\<\\/dl\\>)', html_contents)\n",
    "# print('--------------------------------------------')\n",
    "# print(stock_results)\n",
    "# print('--------------------------------------------')\n",
    "\n",
    "samsung_stock = stock_results[0]\n",
    "samsung_index = samsung_stock[1]\n",
    "# print('--------------------------------------------')\n",
    "# print(samsung_stock)\n",
    "# print('--------------------------------------------')\n",
    "# print(samsung_index)\n",
    "# print('--------------------------------------------')\n",
    "\n",
    "# 주식정보만 추출\n",
    "index_list = re.findall('(\\<dd\\>)([\\s\\S]+?)(\\<\\/dd\\>)', samsung_index)\n",
    "# print('--------------------------------------------')\n",
    "# print(index_list)\n",
    "# print('--------------------------------------------')\n",
    "\n",
    "for index in index_list:\n",
    "    print(index[1])\n"
   ]
  },
  {
   "cell_type": "markdown",
   "id": "b6bcc81a-3c11-4953-89c4-1ce73a770ae3",
   "metadata": {},
   "source": [
    "## 2) Beautiful Soup을 이용한 웹 스크래핑\n",
    "* HTML과 XML파일로 부터 데이터를 추출하기 위한 라이브러리\n",
    "* pip install bs4\n",
    "\n",
    "## CSS 선택자 사용하기\n",
    "* 1) soup.select_onr(\"선택자\") : CSS 선택자로소 요소 하나를 추출\n",
    "* 2) soup.selec(\"선택자\") : CSS 선택자로 요소 여러개를 리스트로 추출\n",
    "\n",
    "### 예제 1) 네이버 금융에서 원/달러 환율 정보 추출"
   ]
  },
  {
   "cell_type": "code",
   "execution_count": 25,
   "id": "aa611a06-6e26-437e-bb02-9ad415117e1a",
   "metadata": {},
   "outputs": [
    {
     "name": "stdout",
     "output_type": "stream",
     "text": [
      "usd/krw =  1,307.00\n",
      "usd/jpy =  133.6200\n"
     ]
    }
   ],
   "source": [
    "from bs4 import BeautifulSoup\n",
    "import urllib.request as req\n",
    "\n",
    "url = 'https://finance.naver.com/marketindex/'\n",
    "\n",
    "# urlopen()으로 데이타 가져오기\n",
    "res = req.urlopen(url)\n",
    "res = res.read().decode('cp949')\n",
    "\n",
    "# BeautifulSoup으로 분석하기\n",
    "soup = BeautifulSoup(res, 'html.parser')\n",
    "# print(soup)\n",
    "\n",
    "# 원달러 환율 데이터 추출하기\n",
    "# #exchangeList > li.on > a.head.usd > div > span.value \n",
    "price = soup.select_one('#exchangeList > li.on > a.head.usd > div > span.value').string\n",
    "print('usd/krw = ', price)\n",
    "\n",
    "# 엔달러\n",
    "# #worldExchangeList > li.on > a.head.jpy_usd > div > span.value\n",
    "#exchangeList > li.on > a.head.eur > div > span.value\n",
    "price = soup.select_one('#worldExchangeList > li.on > a.head.jpy_usd > div > span.value').string\n",
    "print('usd/jpy = ', price)\n"
   ]
  },
  {
   "cell_type": "markdown",
   "id": "de498b80-19eb-4f55-a66d-b98a1014560a",
   "metadata": {},
   "source": [
    "### 예제 2) 네이버 실시간 영화 랭킹"
   ]
  },
  {
   "cell_type": "code",
   "execution_count": 26,
   "id": "5fde9cd1-eca7-4e68-89ce-ab38edeb1dbd",
   "metadata": {},
   "outputs": [
    {
     "name": "stdout",
     "output_type": "stream",
     "text": [
      "1 한산: 용의 출현\n",
      "2 외계+인 1부\n",
      "3 탑건: 매버릭\n",
      "4 헤어질 결심\n",
      "5 범죄도시2\n",
      "6 그레이 맨\n",
      "7 토르: 러브 앤 썬더\n",
      "8 비상선언\n",
      "9 미니언즈2\n",
      "10 더 킬러: 죽어도 되는 아이\n",
      "11 헌트\n",
      "12 마녀(魔女) Part2. The Other One\n",
      "13 뒤틀린 집\n",
      "14 명탐정 코난: 할로윈의 신부\n",
      "15 엘비스\n",
      "16 썸머 필름을 타고!\n",
      "17 놉\n",
      "18 뽀로로 극장판 드래곤캐슬 대모험\n",
      "19 브로커\n",
      "20 임파서블 러브\n",
      "21 명량\n",
      "22 아이를 위한 아이\n",
      "23 멘\n",
      "24 쥬라기 월드: 도미니언\n",
      "25 메모리\n",
      "26 리미트\n",
      "27 노량: 죽음의 바다\n",
      "28 굿 럭 투 유, 리오 그랜드\n",
      "29 크라임스 오브 더 퓨처\n",
      "30 극장판 주술회전 0\n",
      "31 오펜하이머\n",
      "32 특송\n",
      "33 초록밤\n",
      "34 닥터 스트레인지: 대혼돈의 멀티버스\n",
      "35 스파이형 모델\n",
      "36 불릿 트레인\n",
      "37 큐어\n",
      "38 극장판 도라에몽: 진구의 우주소전쟁 리틀스타워즈 2021\n",
      "39 범죄도시\n",
      "40 버즈 라이트이어\n",
      "41 탑건\n",
      "42 DC 리그 오브 슈퍼-펫\n",
      "43 배드 럭 뱅잉\n",
      "44 노스맨\n",
      "45 실종\n",
      "46 미친 능력\n",
      "47 로스트 도터\n",
      "48 섹스 앤 퓨리\n",
      "49 귀멸의 칼날: 아사쿠사 편\n",
      "50 핸썸\n"
     ]
    }
   ],
   "source": [
    "from bs4 import BeautifulSoup\n",
    "import requests\n",
    "\n",
    "# 네이버 영화 랭킹 사이트\n",
    "url = 'https://movie.naver.com/movie/sdb/rank/rmovie.naver'\n",
    "\n",
    "response = requests.get(url)\n",
    "source = response.text\n",
    "# print(source)\n",
    "\n",
    "# BeautifulSoup으로 분석하기\n",
    "soup = BeautifulSoup(source, 'html.parser')\n",
    "\n",
    "# 네이버 영화 랭킹 데이터 추출하기\n",
    "#old_content > table > tbody > tr:nth-child(2) > td.title > div > a\n",
    "movieList = soup.select('#old_content > table > tbody > tr > td.title > div > a')\n",
    "\n",
    "for rank, data in enumerate(movieList, start=1):\n",
    "    print(rank, data.text)"
   ]
  },
  {
   "cell_type": "code",
   "execution_count": null,
   "id": "7ac8c128-da1c-4c6b-bb0e-c768fb1a8a24",
   "metadata": {},
   "outputs": [],
   "source": []
  }
 ],
 "metadata": {
  "kernelspec": {
   "display_name": "Python 3 (ipykernel)",
   "language": "python",
   "name": "python3"
  },
  "language_info": {
   "codemirror_mode": {
    "name": "ipython",
    "version": 3
   },
   "file_extension": ".py",
   "mimetype": "text/x-python",
   "name": "python",
   "nbconvert_exporter": "python",
   "pygments_lexer": "ipython3",
   "version": "3.10.2"
  }
 },
 "nbformat": 4,
 "nbformat_minor": 5
}
