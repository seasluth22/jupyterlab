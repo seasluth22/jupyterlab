{
 "cells": [
  {
   "cell_type": "markdown",
   "id": "b224a53e-9a75-48aa-8396-67be68e75ccb",
   "metadata": {},
   "source": [
    "# Test : 로또 추첨하기\n",
    "- 1 부터 45까지의 숫자 중 6개를 중복되지 않게 만들어 출력하는 게임"
   ]
  },
  {
   "cell_type": "code",
   "execution_count": 2,
   "id": "d5f77ca9-f2a8-4b2e-89c2-2387680502ce",
   "metadata": {},
   "outputs": [
    {
     "name": "stdout",
     "output_type": "stream",
     "text": [
      "** 로또 추첨을 시작합니다. ** \n",
      "\n",
      "[26]\n",
      "[2, 26]\n",
      "[2, 22, 26]\n",
      "[2, 22, 26, 36]\n",
      "[2, 13, 22, 26, 36]\n"
     ]
    }
   ],
   "source": [
    "import random\n",
    "\n",
    "# 함수 선언\n",
    "def getNumber():\n",
    "    return random.randrange(1, 46)\n",
    "    \n",
    "# 메인 코드\n",
    "lotto = []\n",
    "num = 0\n",
    "\n",
    "print('** 로또 추첨을 시작합니다. ** \\n')\n",
    "\n",
    "while True :\n",
    "    # 1. 번호를 추첨\n",
    "    num = getNumber()\n",
    "    \n",
    "    # 2. 중복 체크 -> 추가 또는 다시 추첨\n",
    "    if lotto.count(num) == 0 :\n",
    "        lotto.append(num)\n",
    "    \n",
    "    # 3, 6개 추첨이 끝나면 종료\n",
    "    if len(lotto) >= 6 :\n",
    "        break\n",
    "            \n",
    "    # 4. 정렬하여 출력\n",
    "    lotto.sort()\n",
    "    print(lotto)"
   ]
  },
  {
   "cell_type": "code",
   "execution_count": null,
   "id": "304f6656-73c0-4acb-a7e4-410032eff6b4",
   "metadata": {},
   "outputs": [],
   "source": []
  },
  {
   "cell_type": "code",
   "execution_count": null,
   "id": "ef3ac41e-bcf4-4eab-85ad-fe2c1fd81ecf",
   "metadata": {},
   "outputs": [],
   "source": []
  },
  {
   "cell_type": "code",
   "execution_count": null,
   "id": "19d84e38-c6c0-4513-9bab-123594163344",
   "metadata": {},
   "outputs": [],
   "source": []
  },
  {
   "cell_type": "code",
   "execution_count": null,
   "id": "0aff1299-98b5-4ff2-815c-8281e3b1b48f",
   "metadata": {},
   "outputs": [],
   "source": []
  },
  {
   "cell_type": "code",
   "execution_count": null,
   "id": "1d32dc00-541b-4df2-9d4e-c05d1df665f4",
   "metadata": {},
   "outputs": [],
   "source": []
  },
  {
   "cell_type": "code",
   "execution_count": null,
   "id": "ffec56cb-36ce-46c5-aee4-6db30f4b50b5",
   "metadata": {},
   "outputs": [],
   "source": []
  },
  {
   "cell_type": "code",
   "execution_count": null,
   "id": "d4b1e24c-8676-4be5-98f6-69722c003499",
   "metadata": {},
   "outputs": [],
   "source": []
  },
  {
   "cell_type": "code",
   "execution_count": null,
   "id": "c4bfcf36-fe17-4254-ba15-2e675ad60958",
   "metadata": {},
   "outputs": [],
   "source": []
  },
  {
   "cell_type": "code",
   "execution_count": null,
   "id": "2047f70b-f431-445d-9b0b-f1545aede373",
   "metadata": {},
   "outputs": [],
   "source": []
  },
  {
   "cell_type": "code",
   "execution_count": null,
   "id": "4fe48ab9-b8b7-442b-baec-dad5b5f42d11",
   "metadata": {},
   "outputs": [],
   "source": []
  },
  {
   "cell_type": "code",
   "execution_count": null,
   "id": "f4663071-4b7d-473b-a074-d331ebca10d3",
   "metadata": {},
   "outputs": [],
   "source": []
  }
 ],
 "metadata": {
  "kernelspec": {
   "display_name": "Python 3 (ipykernel)",
   "language": "python",
   "name": "python3"
  },
  "language_info": {
   "codemirror_mode": {
    "name": "ipython",
    "version": 3
   },
   "file_extension": ".py",
   "mimetype": "text/x-python",
   "name": "python",
   "nbconvert_exporter": "python",
   "pygments_lexer": "ipython3",
   "version": "3.10.2"
  }
 },
 "nbformat": 4,
 "nbformat_minor": 5
}
