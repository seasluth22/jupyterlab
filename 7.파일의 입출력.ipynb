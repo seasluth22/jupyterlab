{
 "cells": [
  {
   "cell_type": "markdown",
   "id": "3d74f8ba-9926-49c9-a1dc-1f4e0bd0a355",
   "metadata": {},
   "source": [
    "# 파일의 입출력\n",
    "## 텍스트 파일 읽기"
   ]
  },
  {
   "cell_type": "code",
   "execution_count": 2,
   "id": "70144eb4-be79-4f1a-8f42-5bf357252d28",
   "metadata": {},
   "outputs": [],
   "source": [
    "f = open('dream.txt')\n",
    "contents = f.read()\n",
    "f.close()"
   ]
  },
  {
   "cell_type": "code",
   "execution_count": 3,
   "id": "bc8818d3-f3e3-4aff-82e1-81caf77b0608",
   "metadata": {},
   "outputs": [
    {
     "data": {
      "text/plain": [
       "\"I Have a Dream, a song to sing\\nTo help me cope, with anything\\nIf you see the wonder, of a fairy tale\\nYou can take the future, even if you fail\\nI believe in angels\\nSomething good in everything I see\\nI believe in angels\\nWhen I know the time is right for me\\nI'll cross the stream, I Have a Dream\\nI Have a Dream, a fantasy\\nTo help me through, reality\\nAnd my destination, makes it worth the while\\nPushin' through the darkness, still another mile\\nI believe in angels\\nSomething good in everything I see\\nI believe in angels\\nWhen I know the time is right for me\\nI'll cross the stream, I Have a Dream\\nI'll cross the stream, I Have a Dream\\nI Have a Dream, a song to sing\\nTo help me cope, with anything\\nIf you see the wonder, of a fairy tale\\nYou can take the future, even if you fail\\nI believe in angels\\nSomething good in everything I see\\nI believe in angels\\nWhen I know the time is right for me\\nI'll cross the stream, I Have a Dream\\nI'll cross the stream, I Have a Dream\""
      ]
     },
     "execution_count": 3,
     "metadata": {},
     "output_type": "execute_result"
    }
   ],
   "source": [
    "contents"
   ]
  },
  {
   "cell_type": "code",
   "execution_count": 5,
   "id": "7efba9a9-73da-4683-8663-9b1be4ebd62a",
   "metadata": {},
   "outputs": [
    {
     "data": {
      "text/plain": [
       "959"
      ]
     },
     "execution_count": 5,
     "metadata": {},
     "output_type": "execute_result"
    }
   ],
   "source": [
    "len(contents)"
   ]
  },
  {
   "cell_type": "code",
   "execution_count": 4,
   "id": "f26cd790-6e5f-4c76-9d2e-b636f792d0f6",
   "metadata": {},
   "outputs": [
    {
     "data": {
      "text/plain": [
       "str"
      ]
     },
     "execution_count": 4,
     "metadata": {},
     "output_type": "execute_result"
    }
   ],
   "source": [
    "type(contents)"
   ]
  },
  {
   "cell_type": "markdown",
   "id": "31e965da-28d6-4489-8825-4c6e03796d23",
   "metadata": {
    "tags": []
   },
   "source": [
    "### with ~ as문 사용하기"
   ]
  },
  {
   "cell_type": "code",
   "execution_count": 7,
   "id": "62392298-a2a1-4f1a-a192-6099348862b0",
   "metadata": {},
   "outputs": [
    {
     "data": {
      "text/plain": [
       "959"
      ]
     },
     "execution_count": 7,
     "metadata": {},
     "output_type": "execute_result"
    }
   ],
   "source": [
    "#with ~ as\n",
    "with open('dream.txt', 'r') as f:\n",
    "    contents = f.read()\n",
    "len(contents)"
   ]
  },
  {
   "cell_type": "markdown",
   "id": "daf42ade-ee5e-458e-af39-f42bb1936797",
   "metadata": {},
   "source": [
    "### 한줄씩 읽어오기 : readlines()"
   ]
  },
  {
   "cell_type": "code",
   "execution_count": 10,
   "id": "05187b4c-7ee8-4aab-8b03-81900462dea0",
   "metadata": {},
   "outputs": [
    {
     "data": {
      "text/plain": [
       "['I Have a Dream, a song to sing\\n',\n",
       " 'To help me cope, with anything\\n',\n",
       " 'If you see the wonder, of a fairy tale\\n',\n",
       " 'You can take the future, even if you fail\\n',\n",
       " 'I believe in angels\\n',\n",
       " 'Something good in everything I see\\n',\n",
       " 'I believe in angels\\n',\n",
       " 'When I know the time is right for me\\n',\n",
       " \"I'll cross the stream, I Have a Dream\\n\",\n",
       " 'I Have a Dream, a fantasy\\n',\n",
       " 'To help me through, reality\\n',\n",
       " 'And my destination, makes it worth the while\\n',\n",
       " \"Pushin' through the darkness, still another mile\\n\",\n",
       " 'I believe in angels\\n',\n",
       " 'Something good in everything I see\\n',\n",
       " 'I believe in angels\\n',\n",
       " 'When I know the time is right for me\\n',\n",
       " \"I'll cross the stream, I Have a Dream\\n\",\n",
       " \"I'll cross the stream, I Have a Dream\\n\",\n",
       " 'I Have a Dream, a song to sing\\n',\n",
       " 'To help me cope, with anything\\n',\n",
       " 'If you see the wonder, of a fairy tale\\n',\n",
       " 'You can take the future, even if you fail\\n',\n",
       " 'I believe in angels\\n',\n",
       " 'Something good in everything I see\\n',\n",
       " 'I believe in angels\\n',\n",
       " 'When I know the time is right for me\\n',\n",
       " \"I'll cross the stream, I Have a Dream\\n\",\n",
       " \"I'll cross the stream, I Have a Dream\"]"
      ]
     },
     "execution_count": 10,
     "metadata": {},
     "output_type": "execute_result"
    }
   ],
   "source": [
    "with open('dream.txt', 'r') as f:\n",
    "    contents_list = f.readlines()\n",
    "contents_list"
   ]
  },
  {
   "cell_type": "code",
   "execution_count": 11,
   "id": "9863482f-b5cd-4c22-b691-843f64c508bc",
   "metadata": {},
   "outputs": [
    {
     "data": {
      "text/plain": [
       "29"
      ]
     },
     "execution_count": 11,
     "metadata": {},
     "output_type": "execute_result"
    }
   ],
   "source": [
    "len(contents_list)"
   ]
  },
  {
   "cell_type": "markdown",
   "id": "07c7d8be-fba5-496f-b894-a9bab832786d",
   "metadata": {},
   "source": [
    "### 활용예제) 파일의 글자 통계 정보 출력하기\n",
    "- 문자 개수, 단어 개수, 라인 수를 세는 프로그램 "
   ]
  },
  {
   "cell_type": "code",
   "execution_count": 26,
   "id": "6e2ab17f-4a09-4acf-ae96-4b017478d323",
   "metadata": {},
   "outputs": [
    {
     "name": "stdout",
     "output_type": "stream",
     "text": [
      "문자수 :  959\n",
      "단어수 :  205\n",
      "라인수 :  29\n"
     ]
    }
   ],
   "source": [
    "import re\n",
    "with open('dream.txt', 'r') as f:\n",
    "    contents = f.read()\n",
    "    word_list = re.split(r\"\\n|[' ']\", contents)\n",
    "    line_list = contents.split('\\n')\n",
    "    \n",
    "print(\"문자수 : \", len(contents))\n",
    "print(\"단어수 : \", len(word_list))\n",
    "print(\"라인수 : \", len(line_list))"
   ]
  },
  {
   "cell_type": "markdown",
   "id": "bec58578-59da-4649-ba02-52eb5dcfe983",
   "metadata": {},
   "source": [
    "## 파일 쓰기"
   ]
  },
  {
   "cell_type": "code",
   "execution_count": 30,
   "id": "19ea6da9-e2b3-48ea-b3c8-f97f4c37e737",
   "metadata": {},
   "outputs": [],
   "source": [
    "f = open('count.txt', 'w', encoding='utf-8')\n",
    "for i in range(1, 11):\n",
    "    data = '%d번째 줄입니다. \\n' % (i)\n",
    "    f.write(data)\n",
    "f.close()"
   ]
  },
  {
   "cell_type": "code",
   "execution_count": 31,
   "id": "f86ef6b5-c0f7-4180-80ae-2dad5fae1af8",
   "metadata": {},
   "outputs": [],
   "source": [
    "# w는 재작성\n",
    "f = open('count.txt', 'a', encoding='utf-8')\n",
    "for i in range(11, 21):\n",
    "    data = '%d번째 줄입니다. \\n' % (i)\n",
    "    f.write(data)\n",
    "f.close()"
   ]
  },
  {
   "cell_type": "markdown",
   "id": "540a8946-c4f5-45c0-8347-2a31cdc53095",
   "metadata": {},
   "source": [
    "### with ~ as"
   ]
  },
  {
   "cell_type": "code",
   "execution_count": 33,
   "id": "15b547a5-d5e4-4c60-96ee-03bf1f4299e6",
   "metadata": {},
   "outputs": [],
   "source": [
    "with open('dream.txt', 'w') as f:\n",
    "    for i in range(1, 11):\n",
    "        data = '%d번째 줄입니다. \\n' % (i)\n",
    "        f.write(data)"
   ]
  },
  {
   "cell_type": "code",
   "execution_count": 34,
   "id": "bc00c5c7-c095-4141-8cfe-732111e168ec",
   "metadata": {},
   "outputs": [],
   "source": [
    "with open('dream.txt', 'a') as f:\n",
    "    for i in range(11, 21):\n",
    "        data = '%d번째 줄입니다. \\n' % (i)\n",
    "        f.write(data)"
   ]
  },
  {
   "cell_type": "markdown",
   "id": "f6a9ef19-0988-472e-9027-4310cf058c2e",
   "metadata": {},
   "source": [
    "## CSV 파일 다루기\n",
    "### csv 파일 출력"
   ]
  },
  {
   "cell_type": "code",
   "execution_count": 35,
   "id": "6b24a3bd-681f-4186-a256-f8e13d7327b5",
   "metadata": {},
   "outputs": [],
   "source": [
    "import csv\n",
    "with open('fruit.csv', 'w', newline='') as f:\n",
    "    writer = csv.writer(f, delimiter=',')\n",
    "    writer.writerow(['apple', 3500])\n",
    "    writer.writerow(['peer', 5000])\n",
    "    writer.writerow(['cherry', 4500])\n",
    "    writer.writerow(['banana', 3000])"
   ]
  },
  {
   "cell_type": "code",
   "execution_count": 39,
   "id": "3ba84ee2-da23-4389-884b-717982d819ef",
   "metadata": {},
   "outputs": [
    {
     "name": "stdout",
     "output_type": "stream",
     "text": [
      "['apple', '3500']\n",
      "['peer', '5000']\n",
      "['cherry', '4500']\n",
      "['banana', '3000']\n"
     ]
    }
   ],
   "source": [
    "import csv\n",
    "with open('fruit.csv', 'r') as f:\n",
    "    csvRead = csv.reader(f)\n",
    "\n",
    "    fruit = []\n",
    "    for t in csvRead:\n",
    "        fruit.append(t)\n",
    "        print(t)"
   ]
  },
  {
   "cell_type": "code",
   "execution_count": null,
   "id": "81c75acf-80dc-4323-9081-83d8c490f56d",
   "metadata": {},
   "outputs": [],
   "source": []
  }
 ],
 "metadata": {
  "kernelspec": {
   "display_name": "Python 3 (ipykernel)",
   "language": "python",
   "name": "python3"
  },
  "language_info": {
   "codemirror_mode": {
    "name": "ipython",
    "version": 3
   },
   "file_extension": ".py",
   "mimetype": "text/x-python",
   "name": "python",
   "nbconvert_exporter": "python",
   "pygments_lexer": "ipython3",
   "version": "3.10.2"
  }
 },
 "nbformat": 4,
 "nbformat_minor": 5
}
