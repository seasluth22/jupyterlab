{
 "cells": [
  {
   "cell_type": "code",
   "execution_count": 8,
   "id": "a1cab994-0274-4189-ac75-0edb77d65b33",
   "metadata": {},
   "outputs": [
    {
     "name": "stdout",
     "output_type": "stream",
     "text": [
      "클래스 이름 :  자동차  / 색상 :  검정  / 수량 :  1\n",
      "인스턴스 이름 :  QM3  / 색상 :  빨강\n",
      "클래스 이름 :  자동차  / 색상 :  검정  / 수량 :  2\n",
      "인스턴스 이름 :  SM3  / 색상 :  갈색\n",
      "클래스 이름 :  자동차  / 색상 :  검정  / 수량 :  3\n",
      "인스턴스 이름 :  SM5  / 색상 :  회색\n",
      "------------------------------------------------\n",
      "클래스 이름 :  자동차  / 색상 :  검정  / 수량 :  3\n",
      "인스턴스 이름 :  QM3  / 색상 :  빨강\n",
      "인스턴스를 소멸시킴니다.\n",
      "클래스 이름 :  자동차  / 색상 :  검정  / 수량 :  2\n",
      "인스턴스 이름 :  SM3  / 색상 :  갈색\n",
      "인스턴스를 소멸시킴니다.\n",
      "클래스 이름 :  자동차  / 색상 :  검정  / 수량 :  1\n",
      "인스턴스 이름 :  SM5  / 색상 :  회색\n",
      "인스턴스를 소멸시킴니다.\n"
     ]
    }
   ],
   "source": [
    "class Car:\n",
    "    name = \"자동차\"\n",
    "    color = \"검정\"\n",
    "    count = 0\n",
    "    \n",
    "    def __init__(self, name, color):\n",
    "        self.name = name\n",
    "        self.color = color\n",
    "        Car.count = Car.count + 1 \n",
    "        \n",
    "    def __del__(self):\n",
    "        print(\"인스턴스를 소멸시킴니다.\")\n",
    "        Car.count = Car.count - 1 \n",
    "              \n",
    "    def showInfo(self):\n",
    "        print(\"클래스 이름 : \", Car.name, \" / 색상 : \" , Car.color, \" / 수량 : \" , Car.count)\n",
    "        print(\"인스턴스 이름 : \", self.name, \" / 색상 : \" , self.color)\n",
    "\n",
    "car1 = Car(\"QM3\", \"빨강\")\n",
    "car1.showInfo()\n",
    "car2 = Car(\"SM3\", \"갈색\")\n",
    "car2.showInfo()\n",
    "car3 = Car(\"SM5\", \"회색\")\n",
    "car3.showInfo()\n",
    "\n",
    "print('------------------------------------------------')\n",
    "\n",
    "car1.showInfo()\n",
    "del car1\n",
    "car2.showInfo()\n",
    "del car2\n",
    "car3.showInfo()\n",
    "del car3"
   ]
  },
  {
   "cell_type": "code",
   "execution_count": null,
   "id": "0a4a14e4-a850-4e8a-a85e-e4ebaec30631",
   "metadata": {},
   "outputs": [],
   "source": []
  }
 ],
 "metadata": {
  "kernelspec": {
   "display_name": "Python 3 (ipykernel)",
   "language": "python",
   "name": "python3"
  },
  "language_info": {
   "codemirror_mode": {
    "name": "ipython",
    "version": 3
   },
   "file_extension": ".py",
   "mimetype": "text/x-python",
   "name": "python",
   "nbconvert_exporter": "python",
   "pygments_lexer": "ipython3",
   "version": "3.10.2"
  }
 },
 "nbformat": 4,
 "nbformat_minor": 5
}
