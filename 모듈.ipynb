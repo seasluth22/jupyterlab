{
 "cells": [
  {
   "cell_type": "markdown",
   "id": "ddd112c3-b59f-4a7b-9b79-0a68e32858bc",
   "metadata": {},
   "source": [
    "# 모듈\n",
    " * 모듈을 import하는 방법\n",
    "     - import 모듈 이름                  ex) import os\n",
    "     - import 모듈 이름 as 별칭          ex) import pandas as pd0\n",
    "     - form 모듈 이름 import 모듈함수    ex) from os import listdir  --- 모듈이름을 앞에 붙이지 않고도 사용\n",
    "     - form 모듈 이름 import *           ex) from mod1 import *\n",
    "     \n",
    " * Module1.py를 만들고 A.py와 B.py에서 불러서 사용\n",
    "\n",
    "## # Module1.py\n",
    "### # 함수 선언 부분\n",
    "def func1() :\n",
    "    print('Module1.py의 func1()이 호출됨')\n",
    "\n",
    "def func2() :\n",
    "    print('Module1.py의 func1()이 호출됨')\n",
    "\n",
    "def func3() :\n",
    "    print('Module1.py의 func1()이 호출됨')"
   ]
  },
  {
   "cell_type": "code",
   "execution_count": null,
   "id": "dc439edc-b618-49ca-8914-d195c9f2210c",
   "metadata": {},
   "outputs": [],
   "source": [
    "# a.py\n",
    "import module1 as m\n",
    "\n",
    "m.func1()\n",
    "m.func2()\n",
    "m.func3()"
   ]
  },
  {
   "cell_type": "code",
   "execution_count": 2,
   "id": "08cedbfc-d80c-42d4-b884-6a75f27cc1b4",
   "metadata": {},
   "outputs": [
    {
     "name": "stdout",
     "output_type": "stream",
     "text": [
      "Module1.py의 func1()이 호출됨\n",
      "Module1.py의 func1()이 호출됨\n",
      "Module1.py의 func1()이 호출됨\n"
     ]
    }
   ],
   "source": [
    "# b.py\n",
    "from module1 import func1, func2, func3\n",
    "\n",
    "func1()\n",
    "func2()\n",
    "func3()"
   ]
  }
 ],
 "metadata": {
  "kernelspec": {
   "display_name": "Python 3 (ipykernel)",
   "language": "python",
   "name": "python3"
  },
  "language_info": {
   "codemirror_mode": {
    "name": "ipython",
    "version": 3
   },
   "file_extension": ".py",
   "mimetype": "text/x-python",
   "name": "python",
   "nbconvert_exporter": "python",
   "pygments_lexer": "ipython3",
   "version": "3.10.2"
  }
 },
 "nbformat": 4,
 "nbformat_minor": 5
}
